{
  "cells": [
    {
      "cell_type": "markdown",
      "source": [
        "# Introdução\n",
        "\n",
        "Disciplina: EELT-7023 - Introdução ao Aprendizado de Máquina\n",
        "\n",
        "Discente: Robson Guedes\n",
        "\n",
        "E-mail: robson.guedes@ufpr.br\n",
        "\n",
        "\n",
        "\n",
        "---\n",
        "\n",
        "Esse arquivo está dividido em duas partes, conforme definido no Slide 56 do arquivo Aula 2."
      ],
      "metadata": {
        "id": "KUypaQLtA-02"
      },
      "id": "KUypaQLtA-02"
    },
    {
      "cell_type": "markdown",
      "source": [
        "# Parte 1\n",
        "\n",
        "A resposta à pergunta 2 está antes da célula que inicia com \"Parabéns\""
      ],
      "metadata": {
        "id": "Q3pM4gr5CNYQ"
      },
      "id": "Q3pM4gr5CNYQ"
    },
    {
      "cell_type": "markdown",
      "id": "2567d841",
      "metadata": {
        "pycharm": {
          "name": "#%% md\n"
        },
        "id": "2567d841"
      },
      "source": [
        "# Introdução aos Python Notebooks (usando Google Colab)\n",
        "\n",
        "Bem-vindo ao Google Colab!\n"
      ]
    },
    {
      "cell_type": "markdown",
      "id": "e5d9b481",
      "metadata": {
        "pycharm": {
          "name": "#%% md\n"
        },
        "id": "e5d9b481"
      },
      "source": [
        "## Objetivo\n",
        "\n",
        "Nesse código, iremos:\n",
        "- Nos familizar com o Google Colab\n",
        "- Aprender a diferença entre células de anotação e células de código\n",
        "- Praticar comandos básicos em Python\n"
      ]
    },
    {
      "cell_type": "markdown",
      "id": "2315e967",
      "metadata": {
        "pycharm": {
          "name": "#%% md\n"
        },
        "id": "2315e967"
      },
      "source": [
        "Células de anotação são justamente essas que utilizamos até aqui."
      ]
    },
    {
      "cell_type": "markdown",
      "id": "94572f25",
      "metadata": {
        "pycharm": {
          "name": "#%% md\n"
        },
        "id": "94572f25"
      },
      "source": [
        "Por outro lado, segue abaixo um exemplo de célula de código:"
      ]
    },
    {
      "cell_type": "code",
      "execution_count": 1,
      "id": "84fbaa84",
      "metadata": {
        "pycharm": {
          "name": "#%%\n"
        },
        "colab": {
          "base_uri": "https://localhost:8080/",
          "height": 0
        },
        "id": "84fbaa84",
        "outputId": "36e8d2ea-ac49-41e9-d437-9043c5c82331"
      },
      "outputs": [
        {
          "output_type": "stream",
          "name": "stdout",
          "text": [
            "Olá mundo!\n"
          ]
        }
      ],
      "source": [
        "#Isso é uma célula de código\n",
        "print(\"Olá mundo!\")"
      ]
    },
    {
      "cell_type": "markdown",
      "id": "c14aa8a9",
      "metadata": {
        "pycharm": {
          "name": "#%% md\n"
        },
        "id": "c14aa8a9"
      },
      "source": [
        "## Python\n",
        "Você pode rodar o seu código Python em células de código.\n",
        "\n",
        "Para rodar o código, selecione a célula e\n",
        "- Segure shift e aperte 'enter'\n",
        "- Clique no botão de 'rodar' acima\n"
      ]
    },
    {
      "cell_type": "markdown",
      "id": "d5712339",
      "metadata": {
        "pycharm": {
          "name": "#%% md\n"
        },
        "id": "d5712339"
      },
      "source": [
        "### Declarações do tipo Print\n",
        "\n",
        "Declarações do tipo Print vão geralmente usar o estilo de string 'f' do Python.\n",
        "\n",
        "Tente criar o seu próprio print na célula abaixo.\n",
        "\n",
        "Tente os dois métodos de rodar a célula."
      ]
    },
    {
      "cell_type": "code",
      "execution_count": null,
      "id": "2b4789c0",
      "metadata": {
        "pycharm": {
          "name": "#%%\n"
        },
        "id": "2b4789c0",
        "outputId": "3afd59b0-b3a1-499a-b551-558f85440cfd"
      },
      "outputs": [
        {
          "name": "stdout",
          "output_type": "stream",
          "text": [
            "strings do tipo 'f' permitem que você incorpore variáveis do tipo  --> eu sou uma string < --\n"
          ]
        }
      ],
      "source": [
        "# declarações do tipo Print\n",
        "variavel = \" --> eu sou uma string < --\"\n",
        "print(f\"strings do tipo 'f' permitem que você incorpore variáveis do tipo {variavel}\")"
      ]
    },
    {
      "cell_type": "markdown",
      "id": "0323152e",
      "metadata": {
        "pycharm": {
          "name": "#%% md\n"
        },
        "id": "0323152e"
      },
      "source": [
        "### Declarando uma variável numérica\n"
      ]
    },
    {
      "cell_type": "code",
      "execution_count": 5,
      "id": "355e98b5",
      "metadata": {
        "id": "355e98b5",
        "outputId": "3a3da189-468b-4601-b079-04458f5d5d48",
        "colab": {
          "base_uri": "https://localhost:8080/"
        }
      },
      "outputs": [
        {
          "output_type": "stream",
          "name": "stdout",
          "text": [
            "2\n"
          ]
        }
      ],
      "source": [
        "x = 2\n",
        "\n",
        "print(x)"
      ]
    },
    {
      "cell_type": "code",
      "source": [
        "############ INÍCIO DA RESPOSTA DO EXERCÍCIO 1, PARTE 1 ############\n",
        "# Agora será declarada a variável y\n",
        "\n",
        "y = 5\n",
        "\n",
        "print(y)"
      ],
      "metadata": {
        "colab": {
          "base_uri": "https://localhost:8080/"
        },
        "id": "QIHW6II2Cp4l",
        "outputId": "140add01-a1cc-42bf-ec47-a5fc3f0e1501"
      },
      "id": "QIHW6II2Cp4l",
      "execution_count": 6,
      "outputs": [
        {
          "output_type": "stream",
          "name": "stdout",
          "text": [
            "5\n"
          ]
        }
      ]
    },
    {
      "cell_type": "markdown",
      "source": [
        "### Declarando uma nova variável e utilizando print tipo 'f'"
      ],
      "metadata": {
        "id": "sFQ2ZYAP-k6B"
      },
      "id": "sFQ2ZYAP-k6B"
    },
    {
      "cell_type": "code",
      "source": [
        "# A variável z será declarada com a atribuição da soma de x e y\n",
        "# E print tipo 'f'\n",
        "\n",
        "z = x + y\n",
        "\n",
        "print(\"Nos blocos anteriores foram declaradas as variáveis x e y.\")\n",
        "print(f\"A soma dessas variáveis foi atribuída à variável z, sendo z = {z}\")"
      ],
      "metadata": {
        "colab": {
          "base_uri": "https://localhost:8080/"
        },
        "id": "lZlhIsCTC3JV",
        "outputId": "914e6f86-9077-4d3e-94f2-cced4a7476c6"
      },
      "id": "lZlhIsCTC3JV",
      "execution_count": 10,
      "outputs": [
        {
          "output_type": "stream",
          "name": "stdout",
          "text": [
            "Nos blocos anteriores foram declaradas as variáveis x e y.\n",
            "A soma dessas variáveis foi atribuída à variável z, sendo z = 7\n"
          ]
        }
      ]
    },
    {
      "cell_type": "code",
      "source": [
        "# Declaração de uma variável tipo string\n",
        "# E print tipo 'f'\n",
        "\n",
        "meu_nome = \"Robson Guedes\"\n",
        "professor = \"Ricardo Schumacher\"\n",
        "\n",
        "print(f\"Esse é o primeiro trabalho de aula de introdução a ML do professor {professor}.\")\n",
        "print(f\"Esta variável foi declarada por {meu_nome}.\")"
      ],
      "metadata": {
        "colab": {
          "base_uri": "https://localhost:8080/"
        },
        "id": "UPCsV2Ob-jml",
        "outputId": "8f3d7413-2f68-4fee-f472-aa41cef70255"
      },
      "id": "UPCsV2Ob-jml",
      "execution_count": 11,
      "outputs": [
        {
          "output_type": "stream",
          "name": "stdout",
          "text": [
            "Esse é o primeiro trabalho de aula de introdução a ML do professor Ricardo Schumacher.\n",
            "Esta variável foi declarada por Robson Guedes.\n"
          ]
        }
      ]
    },
    {
      "cell_type": "markdown",
      "id": "aa8145ad",
      "metadata": {
        "pycharm": {
          "name": "#%% md\n"
        },
        "id": "aa8145ad"
      },
      "source": [
        "# Parabéns!\n",
        "Agora você já teve seu primeiro contato com Python Notebooks. Você fez isso usando o Google Colab.\n",
        "\n",
        "Vale destacar que outros programas também são capazes de abrir arquivos com extensão .ipynb, isto é, Python Notebooks. Um exemplo de programa que faz isso é o Jupyter, também muito utilizado no contexto de programação em Python.\n",
        "\n",
        "\n",
        "\n",
        "---\n",
        "\n"
      ]
    },
    {
      "cell_type": "markdown",
      "source": [
        "# Parte 2\n",
        "\n",
        "**1) Pense num problema real onde existe a necessidade de desenvolvimento de um algoritmo de Aprendizado de Máquina.**\n",
        "\n",
        "No contexto das instituições financeiras um problema comum é a prevenção da  contra transações que sejam provenientes de uma eventual clonagem de cartão de crédito e demais práticas fraudulentas.\n",
        "\n",
        "\n",
        "---\n",
        "\n",
        "\n",
        "**2) Trata-se de um problema de aprendizado Supervisionado ou Não Supervisionado?**\n",
        "\n",
        "Trata-se de um problema Supervisionado, pois o banco utilizará dados do cliente para determinar se a transação encaixa-se no seu padrão de uso/consumo. Ou seja, utilizará o histórico de transações para determinar se uma nova transação tem potencial de ser uma fraude.\n",
        "\n",
        "\n",
        "---\n",
        "\n",
        "\n",
        "**3) Caso seja um problema de aprendizado Supervisionado, trata-se de um problema de Regressão ou Classificação?**\n",
        "\n",
        "Trata-se de um problema de Classificação. As transações seriam classificadas entre \"Normal\" ou \"Fraudulenta\". Eventualmente uma classificação intermediária poderia ser \"Potencialmente Fraudulenta\", o que ensejaria uma verificação/confirmação com o cliente, por exemplo.\n",
        "\n",
        "\n",
        "\n",
        "\n",
        "---\n",
        "\n",
        "\n",
        "**4) Quais serão os dados que você utilizará para alimentar seu algoritmo?**\n",
        "\n",
        "Algumas variáveis que poderiam ser analisadas são:\n",
        "*   Horário\n",
        "*   Volume financeiro da transação\n",
        "*   Estabelecimento\n",
        "*   Localização geográfica\n",
        "*   Distância geográfica entre as últimas transações\n",
        "*   Último local de login no app do banco, se aplicável\n",
        "\n",
        "\n"
      ],
      "metadata": {
        "id": "hBbtQmERFvLl"
      },
      "id": "hBbtQmERFvLl"
    }
  ],
  "metadata": {
    "kernelspec": {
      "display_name": "Python 3 (ipykernel)",
      "language": "python",
      "name": "python3"
    },
    "language_info": {
      "codemirror_mode": {
        "name": "ipython",
        "version": 3
      },
      "file_extension": ".py",
      "mimetype": "text/x-python",
      "name": "python",
      "nbconvert_exporter": "python",
      "pygments_lexer": "ipython3",
      "version": "3.9.12"
    },
    "colab": {
      "provenance": []
    }
  },
  "nbformat": 4,
  "nbformat_minor": 5
}