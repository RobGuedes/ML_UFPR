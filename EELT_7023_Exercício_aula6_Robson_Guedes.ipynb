{
  "cells": [
    {
      "cell_type": "markdown",
      "source": [
        "# Introdução\n",
        "\n",
        "**Exercício da Aula 6**\n",
        "\n",
        "Disciplina: EELT-7023 - Introdução ao Aprendizado de Máquina\n",
        "\n",
        "Discente: Robson Guedes\n",
        "\n",
        "E-mail: robson.guedes@ufpr.br\n",
        "\n",
        "\n",
        "<font color=\"blue\">Respostas e/ou comentários de minha autoria em AZUL.</font>\n",
        "\n",
        "---\n",
        "\n"
      ],
      "metadata": {
        "id": "yJSkNosEMSjd"
      },
      "id": "yJSkNosEMSjd"
    },
    {
      "cell_type": "markdown",
      "id": "3f389fa6",
      "metadata": {
        "pycharm": {
          "name": "#%% md\n"
        },
        "id": "3f389fa6"
      },
      "source": [
        "# Regressão Linear Múltipla"
      ]
    },
    {
      "cell_type": "markdown",
      "id": "490b4f59",
      "metadata": {
        "pycharm": {
          "name": "#%% md\n"
        },
        "id": "490b4f59"
      },
      "source": [
        "## Objetivo\n",
        "Com este código, você irá:\n",
        "- Estender o nosso modelo de regressão para que ele possa contemplar múltiplas características\n",
        "    - Vamos estender a estrutura dos dados para contemplar múltiplas características\n",
        "    - Reescrever a previsão, a função custo e o cálculo do gradiente para contemplar a possibilidade de múltiplas características\n",
        "    - Utilizar a função `np.dot` para vetorizar nossa implementação, para simplificar o código e torná-lo mais rápido."
      ]
    },
    {
      "cell_type": "code",
      "execution_count": 156,
      "id": "95ec3b46",
      "metadata": {
        "pycharm": {
          "name": "#%%\n"
        },
        "id": "95ec3b46"
      },
      "outputs": [],
      "source": [
        "import math as math\n",
        "import numpy as np\n",
        "import matplotlib.pyplot as plt\n",
        "np.set_printoptions(precision=2)  # reduz a precisão das numpy arrays na hora de dar print"
      ]
    },
    {
      "cell_type": "markdown",
      "id": "51bef8ee",
      "metadata": {
        "pycharm": {
          "name": "#%% md\n"
        },
        "id": "51bef8ee"
      },
      "source": [
        "# Definição do Problema\n",
        "\n",
        "Usaremos um exemplo de motivação baseado no problema de estimar o preço de uma casa.\n",
        "\n",
        "Os dados de treinamento contêm três exemplos com quatro características (Área, quartos, andares e idade).  Note que a primeira característica possui uma ordem de grandeza muito maior que as demais. Isso causará um problema, mas nós resolveremos isso em códigos futuros.\n",
        "\n",
        "\n",
        "| Área (sqft) | quartos  | andares | Idade | preço (milháres de dólares)  |   \n",
        "| ----------------| ------------------- |----------------- |--------------|-------------- |  \n",
        "| 2104            | 5                   | 1                | 45           | 460           |  \n",
        "| 1416            | 3                   | 2                | 40           | 232           |  \n",
        "| 852             | 2                   | 1                | 35           | 178           |  \n",
        "\n",
        "Você irá construir um modelo de regressão linear usando esses valores de tal forma que você também possa depois estimar o preço de outras casas. Por exemplo, um casa com 1200 sqft, 3 quartos, 1 andares, 40 anos.  \n"
      ]
    },
    {
      "cell_type": "code",
      "execution_count": 157,
      "id": "7aea2489",
      "metadata": {
        "pycharm": {
          "name": "#%%\n"
        },
        "id": "7aea2489"
      },
      "outputs": [],
      "source": [
        "X_trein = np.array([[2104, 5, 1, 45], [1416, 3, 2, 40], [852, 2, 1, 35]])\n",
        "y_trein = np.array([460, 232, 178])"
      ]
    },
    {
      "cell_type": "markdown",
      "id": "85f8ac54",
      "metadata": {
        "pycharm": {
          "name": "#%% md\n"
        },
        "id": "85f8ac54"
      },
      "source": [
        "## Dando print na nossa matriz X, que contém nossos exemplos de treinamento"
      ]
    },
    {
      "cell_type": "code",
      "execution_count": 158,
      "id": "e8b92e54",
      "metadata": {
        "pycharm": {
          "name": "#%%\n"
        },
        "colab": {
          "base_uri": "https://localhost:8080/"
        },
        "id": "e8b92e54",
        "outputId": "18635890-d427-4b8a-a0e6-61a2c0530b03"
      },
      "outputs": [
        {
          "output_type": "stream",
          "name": "stdout",
          "text": [
            "X Shape: (3, 4), X Type:<class 'numpy.ndarray'>)\n",
            "[[2104    5    1   45]\n",
            " [1416    3    2   40]\n",
            " [ 852    2    1   35]]\n",
            "y Shape: (3,), y Type:<class 'numpy.ndarray'>)\n",
            "[460 232 178]\n"
          ]
        }
      ],
      "source": [
        "print(f\"X Shape: {X_trein.shape}, X Type:{type(X_trein)})\")\n",
        "print(X_trein)\n",
        "print(f\"y Shape: {y_trein.shape}, y Type:{type(y_trein)})\")\n",
        "print(y_trein)"
      ]
    },
    {
      "cell_type": "markdown",
      "id": "4ff4b596",
      "metadata": {
        "pycharm": {
          "name": "#%% md\n"
        },
        "id": "4ff4b596"
      },
      "source": [
        "## Parâmetros $w$ e $b$\n",
        "\n",
        "* $\\mathbf{w}$ é um vetor com $n$ elementos.\n",
        "  - Cada elemento contém um parâmetro associado a uma característica\n",
        "  - Para o nosso conjunto de dados, $n$ é 4 (número de características)\n",
        "  - $b$ é um parâmetro escalar (apenas um único número)\n"
      ]
    },
    {
      "cell_type": "markdown",
      "id": "f9bc46dd",
      "metadata": {
        "pycharm": {
          "name": "#%% md\n"
        },
        "id": "f9bc46dd"
      },
      "source": [
        "Para demonstração, $\\mathbf{w}$ e $b$ serão carregados com um valor inicial que é próximo do ótimo. $\\mathbf{w}$ é um vetor construído como sendo uma numpy array de 1 dimensão (1-D NumPy array)."
      ]
    },
    {
      "cell_type": "code",
      "execution_count": 159,
      "id": "8c7be5d2",
      "metadata": {
        "pycharm": {
          "name": "#%%\n"
        },
        "colab": {
          "base_uri": "https://localhost:8080/"
        },
        "id": "8c7be5d2",
        "outputId": "879f2c8b-bd37-44af-cdbc-6860058b8abb"
      },
      "outputs": [
        {
          "output_type": "stream",
          "name": "stdout",
          "text": [
            "w_inicial shape: (4,), b_inicial type: <class 'float'>\n"
          ]
        }
      ],
      "source": [
        "b_inicial = 785.1811367994083\n",
        "w_inicial = np.array([ 0.39133535, 18.75376741, -53.36032453, -26.42131618])\n",
        "print(f\"w_inicial shape: {w_inicial.shape}, b_inicial type: {type(b_inicial)}\")"
      ]
    },
    {
      "cell_type": "markdown",
      "id": "9a7de797",
      "metadata": {
        "pycharm": {
          "name": "#%% md\n"
        },
        "id": "9a7de797"
      },
      "source": [
        "# Previsão usando o Modelo com múltiplas características\n",
        "\n",
        "A previsão do modelo com múltiplas características é dada pelo seguinte modelo linear:\n",
        "\n",
        "$$ f_{\\mathbf{w},b}(\\mathbf{x}) =  w_0x_0 + w_1x_1 +... + w_{n-1}x_{n-1} + b \\tag{1}$$\n",
        "\n",
        "ou, usando uma notação vetorial:\n",
        "\n",
        "$$ f_{\\mathbf{w},b}(\\mathbf{x}) = \\mathbf{w} \\cdot \\mathbf{x} + b  \\tag{2} $$\n",
        "\n",
        "onde $\\cdot$ é o produtor escalar (`dot product`)\n",
        "\n",
        "Para demonstrar o produto escalar, iremos implementar a previsão usando (1) e (2)."
      ]
    },
    {
      "cell_type": "markdown",
      "id": "0dd44f21",
      "metadata": {
        "pycharm": {
          "name": "#%% md\n"
        },
        "id": "0dd44f21"
      },
      "source": [
        "\n",
        "## Usando (1) e um loop for\n"
      ]
    },
    {
      "cell_type": "code",
      "execution_count": 160,
      "id": "f7849a73",
      "metadata": {
        "pycharm": {
          "name": "#%%\n"
        },
        "id": "f7849a73"
      },
      "outputs": [],
      "source": [
        "def previsao_usando_loop_for(x, w, b):\n",
        "    \"\"\"\n",
        "    faz uma previsão usando loop for\n",
        "\n",
        "    Args:\n",
        "      x (ndarray): Shape (n,) -> exemplo contendo múltiplas características\n",
        "      w (ndarray): Shape (n,) -> parâmetros w do modelo\n",
        "      b (scalar):  parâmetro b do modelo\n",
        "\n",
        "    retorna:\n",
        "      p (scalar):  previsão\n",
        "    \"\"\"\n",
        "    n = x.shape[0]\n",
        "    p = 0\n",
        "    for i in range(n):\n",
        "        p_i = x[i] * w[i]\n",
        "        p = p + p_i\n",
        "    p = p + b\n",
        "    return p"
      ]
    },
    {
      "cell_type": "code",
      "execution_count": 161,
      "id": "97516175",
      "metadata": {
        "pycharm": {
          "name": "#%%\n"
        },
        "colab": {
          "base_uri": "https://localhost:8080/"
        },
        "id": "97516175",
        "outputId": "816652da-dd3f-4f59-aa05-e04040f70ad6"
      },
      "outputs": [
        {
          "output_type": "stream",
          "name": "stdout",
          "text": [
            "x_vetor shape (4,), x_vec: [2104    5    1   45]\n",
            "f_wb shape (), previsão: 459.9999976194083\n"
          ]
        }
      ],
      "source": [
        "# pegando uma linha do nosso conjunto de dados\n",
        "x_vetor = X_trein[0,:]\n",
        "print(f\"x_vetor shape {x_vetor.shape}, x_vec: {x_vetor}\")\n",
        "\n",
        "# fazendo previsão para essa casa\n",
        "f_wb = previsao_usando_loop_for(x_vetor, w_inicial, b_inicial)\n",
        "print(f\"f_wb shape {f_wb.shape}, previsão: {f_wb}\")"
      ]
    },
    {
      "cell_type": "markdown",
      "id": "3475821f",
      "metadata": {
        "pycharm": {
          "name": "#%% md\n"
        },
        "id": "3475821f"
      },
      "source": [
        "Note que o shape do `x_vetor` é 1-D com 4 elementos, ou seja, (4,). Já o resultado da previsão, `f_wb`, é um escalar."
      ]
    },
    {
      "cell_type": "markdown",
      "id": "2f4f4c5d",
      "metadata": {
        "pycharm": {
          "name": "#%% md\n"
        },
        "id": "2f4f4c5d"
      },
      "source": [
        "\n",
        "## Usando (2) e o produto escalar para termos uma versão vetorizada"
      ]
    },
    {
      "cell_type": "code",
      "execution_count": 162,
      "id": "c2766634",
      "metadata": {
        "pycharm": {
          "name": "#%%\n"
        },
        "id": "c2766634"
      },
      "outputs": [],
      "source": [
        "def previsao(x, w, b):\n",
        "    \"\"\"\n",
        "    Argumentos da função:\n",
        "      x (ndarray): Shape (n,) -> exemplo contendo múltiplas características\n",
        "      w (ndarray): Shape (n,) -> parâmetros w do modelo\n",
        "      b (escalar):  parâmetro b do modelo\n",
        "\n",
        "    retorna:\n",
        "      p (escalar):  previsão\n",
        "    \"\"\"\n",
        "    p = np.dot(x, w) + b\n",
        "    return p"
      ]
    },
    {
      "cell_type": "code",
      "execution_count": 163,
      "id": "aaa8a90a",
      "metadata": {
        "pycharm": {
          "name": "#%%\n"
        },
        "colab": {
          "base_uri": "https://localhost:8080/"
        },
        "id": "aaa8a90a",
        "outputId": "59377223-dfaa-4869-a54b-3931d6062afe"
      },
      "outputs": [
        {
          "output_type": "stream",
          "name": "stdout",
          "text": [
            "x_vetor shape (4,), x_vec: [2104    5    1   45]\n",
            "f_wb shape (), previsão: 459.9999976194083\n"
          ]
        }
      ],
      "source": [
        "# pegando uma linha do nosso conjunto de dados\n",
        "x_vetor = X_trein[0,:]\n",
        "print(f\"x_vetor shape {x_vetor.shape}, x_vec: {x_vetor}\")\n",
        "\n",
        "# fazendo previsão para essa casa\n",
        "f_wb = previsao(x_vetor, w_inicial, b_inicial)\n",
        "print(f\"f_wb shape {f_wb.shape}, previsão: {f_wb}\")"
      ]
    },
    {
      "cell_type": "markdown",
      "source": [
        "Note que o resultado é igual ao obtido anteriormente, pois trata-se da mesma casa e do mesmo modelo de previsão. Entretanto, a implementação vetorizada (com redução de laços do tipo `for') é mais elegante e menos custosa computacionalmente."
      ],
      "metadata": {
        "id": "S9XweHHVL7rr"
      },
      "id": "S9XweHHVL7rr"
    },
    {
      "cell_type": "markdown",
      "id": "c848f0ba",
      "metadata": {
        "pycharm": {
          "name": "#%% md\n"
        },
        "id": "c848f0ba"
      },
      "source": [
        "# Calculando o custo quando o modelo possui múltiplas características\n",
        "A função custo $J(\\mathbf{w},b)$ quando temos múltiplas características é dada por:\n",
        "$$J(\\mathbf{w},b) = \\frac{1}{2m} \\sum\\limits_{i = 0}^{m-1} (f_{\\mathbf{w},b}(\\mathbf{x}^{(i)}) - y^{(i)})^2 \\tag{3}$$\n",
        "onde:\n",
        "$$ f_{\\mathbf{w},b}(\\mathbf{x}^{(i)}) = \\mathbf{w} \\cdot \\mathbf{x}^{(i)} + b  \\tag{4} $$\n",
        "\n",
        "\n",
        "Diferentemente dos nossos códigos anteriores, agora $\\mathbf{w}$ e $\\mathbf{x}^{(i)}$ são vetores ao invés de escalares."
      ]
    },
    {
      "cell_type": "markdown",
      "id": "f1b5fc8c",
      "metadata": {
        "pycharm": {
          "name": "#%% md\n"
        },
        "id": "f1b5fc8c"
      },
      "source": [
        "Abaixo encontram-se uma implementação das equações (3) and (4)."
      ]
    },
    {
      "cell_type": "code",
      "execution_count": 164,
      "id": "0ec89357",
      "metadata": {
        "pycharm": {
          "name": "#%%\n"
        },
        "id": "0ec89357"
      },
      "outputs": [],
      "source": [
        "def calcula_custo(X, y, w, b):\n",
        "    \"\"\"\n",
        "    Calcula o custo\n",
        "    Argumentos da função:\n",
        "      X (ndarray (m,n)): Dados, contendo m exemplos com n características\n",
        "      y (ndarray (m,)) : valores alvo\n",
        "      w (ndarray (n,)) : parâmetros w do modelo\n",
        "      b (escalar)       : parâmetro b do modelo\n",
        "\n",
        "    Retorna:\n",
        "      custo (escalar): custo\n",
        "    \"\"\"\n",
        "    m     = X.shape[0]\n",
        "    custo = 0.0\n",
        "    for i in range(m):\n",
        "        f_wb_i = np.dot(X[i], w) + b           #(n,)(n,) = escalar (see np.dot)\n",
        "        custo = custo + (f_wb_i - y[i])**2     # escalar\n",
        "    custo = custo / (2 * m)                    # escalar\n",
        "    return custo"
      ]
    },
    {
      "cell_type": "code",
      "execution_count": 165,
      "id": "652c5388",
      "metadata": {
        "pycharm": {
          "name": "#%%\n"
        },
        "colab": {
          "base_uri": "https://localhost:8080/"
        },
        "id": "652c5388",
        "outputId": "4f4af953-9b3e-4d91-a2ab-4215453c32d0"
      },
      "outputs": [
        {
          "output_type": "stream",
          "name": "stdout",
          "text": [
            "Custo com parâmetros ótimos: 1.5578904428966628e-12\n"
          ]
        }
      ],
      "source": [
        "# Calcula e mostra o custo usando os nossos parâmetros ótimos escolhidos previamente\n",
        "custo = calcula_custo(X_trein, y_trein, w_inicial, b_inicial)\n",
        "print(f'Custo com parâmetros ótimos: {custo}')"
      ]
    },
    {
      "cell_type": "markdown",
      "id": "49f3c105",
      "metadata": {
        "pycharm": {
          "name": "#%% md\n"
        },
        "id": "49f3c105"
      },
      "source": [
        "**Resultado esperado**: 1.5578904045996674e-12"
      ]
    },
    {
      "cell_type": "markdown",
      "id": "4d998888",
      "metadata": {
        "pycharm": {
          "name": "#%% md\n"
        },
        "id": "4d998888"
      },
      "source": [
        "# Método do Gradiente com Múltiplas Variáveis\n",
        "\n",
        "Método do Gradiente com Múltiplas Variáveis:\n",
        "\n",
        "$$\\begin{align*} \\text{repetir}&\\text{ até convergir:} \\; \\lbrace \\newline\\;\n",
        "& w_j = w_j -  \\alpha \\frac{\\partial J(\\mathbf{w},b)}{\\partial w_j} \\tag{5}  \\; & \\text{para j = 0..n-1}\\newline\n",
        "&b\\ \\ = b -  \\alpha \\frac{\\partial J(\\mathbf{w},b)}{\\partial b}  \\newline \\rbrace\n",
        "\\end{align*}$$\n",
        "\n",
        "onde, n é o número de características, parâmetros $w_j$ e $b$ são atualizados simultaneamente e onde  \n",
        "\n",
        "$$\n",
        "\\begin{align}\n",
        "\\frac{\\partial J(\\mathbf{w},b)}{\\partial w_j}  &= \\frac{1}{m} \\sum\\limits_{i = 0}^{m-1} (f_{\\mathbf{w},b}(\\mathbf{x}^{(i)}) - y^{(i)})x_{j}^{(i)} \\tag{6}  \\\\\n",
        "\\frac{\\partial J(\\mathbf{w},b)}{\\partial b}  &= \\frac{1}{m} \\sum\\limits_{i = 0}^{m-1} (f_{\\mathbf{w},b}(\\mathbf{x}^{(i)}) - y^{(i)}) \\tag{7}\n",
        "\\end{align}\n",
        "$$\n",
        "* m é o número de amostras de treinamento no nosso conjunto de dados\n",
        "\n",
        "    \n",
        "*  $f_{\\mathbf{w},b}(\\mathbf{x}^{(i)})$ é a previsão feita pelo modelo, enquanto que $y^{(i)}$ é o valor alvo\n"
      ]
    },
    {
      "cell_type": "markdown",
      "id": "72c7ab1b",
      "metadata": {
        "pycharm": {
          "name": "#%% md\n"
        },
        "id": "72c7ab1b"
      },
      "source": [
        "## Calculando o gradiente\n",
        "\n",
        "Abaixo encontra-se uma implementação para calcular as equações (6) e (7). Existe muitas formas para se implementar isso. Certifique-se que você compreendeu a implementação.\n",
        "   "
      ]
    },
    {
      "cell_type": "code",
      "execution_count": 166,
      "id": "f0f29948",
      "metadata": {
        "pycharm": {
          "name": "#%%\n"
        },
        "id": "f0f29948"
      },
      "outputs": [],
      "source": [
        "def calcula_gradiente(X, y, w, b):\n",
        "    \"\"\"\n",
        "    Calcula Gradiente para Regressão Linear\n",
        "    Argumentos:\n",
        "      X (ndarray (m,n)): Dados, contendo m exemplos com n características\n",
        "      y (ndarray (m,)) : valores alvo\n",
        "      w (ndarray (n,)) : parâmetros w do modelo\n",
        "      b (escalar)      : parâmetro b do modelo\n",
        "\n",
        "    Retorna:\n",
        "      dj_dw (ndarray (n,)): O gradiente da função custo com relação aos parâmetros w.\n",
        "      dj_db (escalar):      O gradiente da função custo com relação ao parâmetro b.\n",
        "    \"\"\"\n",
        "    m,n = X.shape           #(número de exemplos, número de características)\n",
        "    dj_dw = np.zeros((n,))\n",
        "    dj_db = 0.\n",
        "\n",
        "    for i in range(m):\n",
        "        erro = (np.dot(X[i], w) + b) - y[i]\n",
        "        for j in range(n):\n",
        "            dj_dw[j] = dj_dw[j] + erro * X[i, j]\n",
        "        dj_db = dj_db + erro\n",
        "    dj_dw = dj_dw / m\n",
        "    dj_db = dj_db / m\n",
        "\n",
        "    return dj_db, dj_dw"
      ]
    },
    {
      "cell_type": "code",
      "execution_count": 167,
      "id": "839b5e62",
      "metadata": {
        "pycharm": {
          "name": "#%%\n"
        },
        "colab": {
          "base_uri": "https://localhost:8080/"
        },
        "id": "839b5e62",
        "outputId": "f9b88261-b0c6-470b-fb40-f3516c8039dd"
      },
      "outputs": [
        {
          "output_type": "stream",
          "name": "stdout",
          "text": [
            "dj_db com valores iniciais para w,b: -1.6739251501955248e-06\n",
            "dj_dw com valores iniciais para w,b: \n",
            " [-2.73e-03 -6.27e-06 -2.22e-06 -6.92e-05]\n"
          ]
        }
      ],
      "source": [
        "# Calcula e mostra o gradiente\n",
        "tmp_dj_db, tmp_dj_dw = calcula_gradiente(X_trein, y_trein, w_inicial, b_inicial)\n",
        "print(f'dj_db com valores iniciais para w,b: {tmp_dj_db}')\n",
        "print(f'dj_dw com valores iniciais para w,b: \\n {tmp_dj_dw}')"
      ]
    },
    {
      "cell_type": "markdown",
      "id": "426cbe05",
      "metadata": {
        "pycharm": {
          "name": "#%% md\n"
        },
        "id": "426cbe05"
      },
      "source": [
        "**Resultados Esperados**:   \n",
        "dj_db com valores iniciais w,b: -1.6739251122999121e-06  \n",
        "dj_dw com valores iniciais w,b:   \n",
        " [-2.73e-03 -6.27e-06 -2.22e-06 -6.92e-05]  "
      ]
    },
    {
      "cell_type": "markdown",
      "id": "03b1937a",
      "metadata": {
        "pycharm": {
          "name": "#%% md\n"
        },
        "id": "03b1937a"
      },
      "source": [
        "## Método do Gradiente com múltiplas características\n",
        "\n",
        "A rotina a seguir implementa a equação (5)"
      ]
    },
    {
      "cell_type": "code",
      "execution_count": 168,
      "id": "e95f471c",
      "metadata": {
        "pycharm": {
          "name": "#%%\n"
        },
        "id": "e95f471c"
      },
      "outputs": [],
      "source": [
        "def metodo_do_gradiente(X, y, w_in, b_in, calcula_custo, calcula_gradiente, alpha, num_iters):\n",
        "    \"\"\"\n",
        "    Performa Método do Gradiente para aprender w e b. Atualiza w e b ao longo de\n",
        "    num_iters iterações usando uma taxa de aprendizado alpha\n",
        "\n",
        "    Argumentos da função:\n",
        "      X (ndarray (m,n))   : Dados, contendo m exemplos com n características\n",
        "      y (ndarray (m,))    : valores alvo\n",
        "      w_in (ndarray (n,)) : valores iniciais dos parâmetros w do modelo\n",
        "      b_in (escalar)      : valor inicial do parâmetro b do modelo\n",
        "      calcula_custo       : função que calcula o custo\n",
        "      calcula_gradiente   : função que calcula o gradiente\n",
        "      alpha (float)       : taxa de aprendizado\n",
        "      num_iters (int)     : Número de iterações para o método do gradiente\n",
        "\n",
        "    Retorna:\n",
        "      w (ndarray (n,)) : Valores atualizados para os parâmetros w\n",
        "      b (scalar)       : Valores atualizado para o parâmetro b\n",
        "      \"\"\"\n",
        "\n",
        "    # Valores históricos\n",
        "    J_history = []\n",
        "    w = w_in\n",
        "    b = b_in\n",
        "\n",
        "    for i in range(num_iters):\n",
        "\n",
        "        # Calcula o gradiente\n",
        "        dj_db,dj_dw = calcula_gradiente(X, y, w, b)\n",
        "\n",
        "        # Atualiza os parâmetros\n",
        "        w = w - alpha * dj_dw\n",
        "        b = b - alpha * dj_db\n",
        "\n",
        "        # Salva o custo\n",
        "        if i<100000:      # prevent resource exhaustion\n",
        "            J_history.append( calcula_custo(X, y, w, b))\n",
        "\n",
        "        # Faz print de tempos em tempos\n",
        "        if i% math.ceil(num_iters / 10) == 0:\n",
        "            print(f\"Iteração {i:4d}: Custo {J_history[-1]:8.2f}   \")\n",
        "\n",
        "    return w, b, J_history # retorna valores finais e históricos"
      ]
    },
    {
      "cell_type": "markdown",
      "id": "0fc222a6",
      "metadata": {
        "pycharm": {
          "name": "#%% md\n"
        },
        "id": "0fc222a6"
      },
      "source": [
        "Na célula a seguir testamos a implementação"
      ]
    },
    {
      "cell_type": "code",
      "execution_count": 172,
      "id": "3a5ac992",
      "metadata": {
        "pycharm": {
          "name": "#%%\n"
        },
        "colab": {
          "base_uri": "https://localhost:8080/"
        },
        "id": "3a5ac992",
        "outputId": "3b294827-75d1-4028-b3d5-05bf41cb86c1"
      },
      "outputs": [
        {
          "output_type": "stream",
          "name": "stdout",
          "text": [
            "Iteração    0: Custo  6415.10   \n",
            "Iteração 8000: Custo    46.24   \n",
            "Iteração 16000: Custo    14.05   \n",
            "Iteração 24000: Custo     4.27   \n",
            "Iteração 32000: Custo     1.30   \n",
            "Iteração 40000: Custo     0.39   \n",
            "Iteração 48000: Custo     0.12   \n",
            "Iteração 56000: Custo     0.04   \n",
            "Iteração 64000: Custo     0.01   \n",
            "Iteração 72000: Custo     0.00   \n",
            "b,w encontrados pelo método do gradiente: 750.06,[  0.38  18.99 -53.91 -25.16] \n",
            "previsão: 460.04, valor alvo: 460\n",
            "previsão: 231.98, valor alvo: 232\n",
            "previsão: 177.94, valor alvo: 178\n"
          ]
        }
      ],
      "source": [
        "# inicializando parâmetros\n",
        "# w_inicial = np.zeros_like(w_inicial)\n",
        "w_inicial = np.array([ 0.5, 19, -54.0, -27.0])\n",
        "b_inicial = 750\n",
        "# parâmetros para rodar o Método do Gradiente:\n",
        "num_iters = 80000\n",
        "alpha     = 8.37e-7\n",
        "# Rodando o Método do gradiente\n",
        "w_final, b_final, J_hist = metodo_do_gradiente(X_trein, y_trein, w_inicial, b_inicial,\n",
        "                                                    calcula_custo, calcula_gradiente,\n",
        "                                                    alpha, num_iters)\n",
        "print(f\"b,w encontrados pelo método do gradiente: {b_final:0.2f},{w_final} \")\n",
        "m,_ = X_trein.shape\n",
        "for i in range(m):\n",
        "    print(f\"previsão: {np.dot(X_trein[i], w_final) + b_final:0.2f}, valor alvo: {y_trein[i]}\")"
      ]
    },
    {
      "cell_type": "code",
      "execution_count": 170,
      "id": "06159dde",
      "metadata": {
        "pycharm": {
          "name": "#%%\n"
        },
        "colab": {
          "base_uri": "https://localhost:8080/",
          "height": 387
        },
        "id": "06159dde",
        "outputId": "4f999f9d-1c81-4ebc-acb7-61581fb0da11"
      },
      "outputs": [
        {
          "output_type": "display_data",
          "data": {
            "text/plain": [
              "<Figure size 1200x400 with 2 Axes>"
            ],
            "image/png": "[encoded data removed]"
          },
          "metadata": {}
        }
      ],
      "source": [
        "# Plotando os resultados\n",
        "fig, (ax1, ax2) = plt.subplots(1, 2, constrained_layout=True, figsize=(12, 4))\n",
        "ax1.plot(J_hist)\n",
        "ax2.plot(100 + np.arange(len(J_hist[100:])), J_hist[100:])\n",
        "ax1.set_title(\"Custo vs. iteração\");  ax2.set_title(\"Custo vs. iteração (cauda do gráfico)\")\n",
        "ax1.set_ylabel('Custo')             ;  ax2.set_ylabel('Custo')\n",
        "ax1.set_xlabel('iteração')   ;  ax2.set_xlabel('iteração')\n",
        "plt.show()"
      ]
    },
    {
      "cell_type": "markdown",
      "id": "1e01cf89",
      "metadata": {
        "pycharm": {
          "name": "#%% md\n"
        },
        "id": "1e01cf89"
      },
      "source": [
        "*Estes resultados ainda não são os melhores*! O custo ainda está caindo e nossas previsões não estão tão precisas. No próximo código nós vamos descobrir como melhorar isso.\n",
        "\n",
        "<font color=\"blue\">Para encontrar um custo menor foram trabalhados os valores de alpha até o limite de convergência, um maior número de iterações e palpites para $b$ e $w$, pois ao iniciar o cálculo de custo com os valores de $w$ zerados, o valor encontrado ficava muito alto. </br></br>Respostas:</br></br>1) $b = 0$ e $w =[  0.2,  0, -0.01, -0.07]$ </br></br> 2) Não são os melhores valores porque a função custo resulta em valor muito superior ao dos valores ótimos descritos anteriormente no exercício. </br></br> 3) Ao iniciar o cálculo do custo com valores de $b$ e $w$ iguais a zero, o algoritmo não consegue encontrar valores ótimos. Ao incrementar o número de iterações é possível perceber um leve decréscimo no valor de $b$, o que pode significar um início de busca de gradiente na direção contrária a dos valores ótimos. </br></br> 4) $b = 750.06$ e $w =[  0.38,  18.99, -53.91, -25.16]$"
      ]
    },
    {
      "cell_type": "markdown",
      "id": "d7b12e72",
      "metadata": {
        "pycharm": {
          "name": "#%% md\n"
        },
        "id": "d7b12e72"
      },
      "source": [
        "# Parabéns!\n",
        "Com este código você:\n",
        "- Redesenvolveu as rotinas para Regressão Linear, agora com múltiplas variáveis.\n",
        "- Utilizou NumPy `np.dot` para vetorizar as implementações"
      ]
    },
    {
      "cell_type": "code",
      "execution_count": 170,
      "id": "7b8f282e",
      "metadata": {
        "pycharm": {
          "name": "#%%\n"
        },
        "id": "7b8f282e"
      },
      "outputs": [],
      "source": []
    }
  ],
  "metadata": {
    "dl_toc_settings": {
      "rndtag": "15456"
    },
    "kernelspec": {
      "display_name": "Python 3 (ipykernel)",
      "language": "python",
      "name": "python3"
    },
    "language_info": {
      "codemirror_mode": {
        "name": "ipython",
        "version": 3
      },
      "file_extension": ".py",
      "mimetype": "text/x-python",
      "name": "python",
      "nbconvert_exporter": "python",
      "pygments_lexer": "ipython3",
      "version": "3.9.12"
    },
    "toc-autonumbering": false,
    "colab": {
      "provenance": []
    }
  },
  "nbformat": 4,
  "nbformat_minor": 5
}